{
 "cells": [
  {
   "cell_type": "markdown",
   "id": "ab535949-8a10-43d3-860c-7e6f377faeae",
   "metadata": {},
   "source": [
    "# BINARY CLASSIFICATION WITH MACHINE LEARNING MODELS"
   ]
  },
  {
   "cell_type": "markdown",
   "id": "e5441312-a064-41ca-82db-f7cdaab3cd01",
   "metadata": {},
   "source": [
    "AIM :- To classify reviews as positive of negative easily helps company to see negative reviewed products easily without reading too much reviews. So, my focus point is negative rated products. So, I divided my target as 0 and 1. 3 and above rated books were collected together as 1 and 1-2 were classified as 0.\n",
    "\n",
    "My aim in this notebook is to predict reviews as positive or negative from text. To do this, I used machine learning algoritms."
   ]
  },
  {
   "cell_type": "code",
   "execution_count": null,
   "id": "5e30dbe0-7a73-46fa-932b-cb01bdcf944c",
   "metadata": {},
   "outputs": [],
   "source": [
    "# Importing Necessary Libraries\n",
    "\n",
    "# dataframe and series \n",
    "import pandas as pd\n",
    "import numpy as np\n",
    "\n",
    "# sklearn imports for modeling part\n",
    "from sklearn.feature_extraction.text import TfidfVectorizer\n",
    "from sklearn.linear_model import LogisticRegression\n",
    "from sklearn.tree import DecisionTreeClassifier\n",
    "from sklearn.ensemble import RandomForestClassifier, ExtraTreesClassifier\n",
    "\n",
    "from sklearn.model_selection import cross_val_score\n",
    "from sklearn.metrics import accuracy_score,balanced_accuracy_score\n",
    "from sklearn.model_selection import train_test_split\n",
    "\n",
    "from mlxtend.evaluate import confusion_matrix\n",
    "from mlxtend.plotting import plot_confusion_matrix\n",
    "from mlxtend.plotting import plot_decision_regions\n",
    "\n",
    "from sklearn.model_selection import GridSearchCV\n",
    "from sklearn.metrics import roc_auc_score\n",
    "\n",
    "# To plot\n",
    "import matplotlib.pyplot as plt  \n",
    "%matplotlib inline    \n",
    "import matplotlib as mpl\n",
    "import seaborn as sns\n",
    "\n",
    "import nltk\n",
    "from nltk.corpus import stopwords\n",
    "\n",
    "# XGBoost and LGBM classifier imports\n",
    "import xgboost as xgb\n",
    "from xgboost import XGBClassifier\n",
    "\n",
    "import lightgbm as lgb\n",
    "from lightgbm import LGBMClassifier"
   ]
  },
  {
   "cell_type": "code",
   "execution_count": null,
   "id": "be63a33b-a584-4e9b-a21b-442550375b8b",
   "metadata": {},
   "outputs": [],
   "source": [
    "pd.options.display.max_columns=100"
   ]
  },
  {
   "cell_type": "code",
   "execution_count": 2,
   "id": "e3082986-bc77-43fe-bb30-0837afe75370",
   "metadata": {},
   "outputs": [
    {
     "data": {
      "text/html": [
       "<div>\n",
       "<style scoped>\n",
       "    .dataframe tbody tr th:only-of-type {\n",
       "        vertical-align: middle;\n",
       "    }\n",
       "\n",
       "    .dataframe tbody tr th {\n",
       "        vertical-align: top;\n",
       "    }\n",
       "\n",
       "    .dataframe thead th {\n",
       "        text-align: right;\n",
       "    }\n",
       "</style>\n",
       "<table border=\"1\" class=\"dataframe\">\n",
       "  <thead>\n",
       "    <tr style=\"text-align: right;\">\n",
       "      <th></th>\n",
       "      <th>overall</th>\n",
       "      <th>verified</th>\n",
       "      <th>reviewTime</th>\n",
       "      <th>reviewerID</th>\n",
       "      <th>asin</th>\n",
       "      <th>style</th>\n",
       "      <th>reviewText</th>\n",
       "      <th>summary</th>\n",
       "      <th>unixReviewTime</th>\n",
       "      <th>vote</th>\n",
       "      <th>image</th>\n",
       "      <th>day</th>\n",
       "      <th>month</th>\n",
       "      <th>year</th>\n",
       "      <th>sentiment</th>\n",
       "      <th>review_clean</th>\n",
       "    </tr>\n",
       "  </thead>\n",
       "  <tbody>\n",
       "    <tr>\n",
       "      <th>0</th>\n",
       "      <td>4</td>\n",
       "      <td>True</td>\n",
       "      <td>2014-07-03</td>\n",
       "      <td>A2LSKD2H9U8N0J</td>\n",
       "      <td>B000FA5KK0</td>\n",
       "      <td>{'Format:': ' Kindle Edition'}</td>\n",
       "      <td>pretty good story, a little exaggerated, but I...</td>\n",
       "      <td>pretty good story</td>\n",
       "      <td>1404345600</td>\n",
       "      <td>NaN</td>\n",
       "      <td>NaN</td>\n",
       "      <td>3</td>\n",
       "      <td>7</td>\n",
       "      <td>2014</td>\n",
       "      <td>2</td>\n",
       "      <td>pretty good story a little exaggerated but I l...</td>\n",
       "    </tr>\n",
       "    <tr>\n",
       "      <th>1</th>\n",
       "      <td>5</td>\n",
       "      <td>True</td>\n",
       "      <td>2014-05-26</td>\n",
       "      <td>A2QP13XTJND1QS</td>\n",
       "      <td>B000FA5KK0</td>\n",
       "      <td>{'Format:': ' Kindle Edition'}</td>\n",
       "      <td>If you've read other max brand westerns, you k...</td>\n",
       "      <td>A very good book</td>\n",
       "      <td>1401062400</td>\n",
       "      <td>NaN</td>\n",
       "      <td>NaN</td>\n",
       "      <td>26</td>\n",
       "      <td>5</td>\n",
       "      <td>2014</td>\n",
       "      <td>2</td>\n",
       "      <td>If youve read other max brand westerns you kno...</td>\n",
       "    </tr>\n",
       "    <tr>\n",
       "      <th>2</th>\n",
       "      <td>5</td>\n",
       "      <td>True</td>\n",
       "      <td>2016-09-16</td>\n",
       "      <td>A8WQ7MAG3HFOZ</td>\n",
       "      <td>B000FA5KK0</td>\n",
       "      <td>{'Format:': ' Kindle Edition'}</td>\n",
       "      <td>Love Max, always a fun twist</td>\n",
       "      <td>Five Stars</td>\n",
       "      <td>1473984000</td>\n",
       "      <td>NaN</td>\n",
       "      <td>NaN</td>\n",
       "      <td>16</td>\n",
       "      <td>9</td>\n",
       "      <td>2016</td>\n",
       "      <td>2</td>\n",
       "      <td>Love Max always a fun twist</td>\n",
       "    </tr>\n",
       "    <tr>\n",
       "      <th>3</th>\n",
       "      <td>5</td>\n",
       "      <td>True</td>\n",
       "      <td>2016-03-03</td>\n",
       "      <td>A1E0MODSRYP7O</td>\n",
       "      <td>B000FA5KK0</td>\n",
       "      <td>{'Format:': ' Kindle Edition'}</td>\n",
       "      <td>As usual for him, a good book</td>\n",
       "      <td>a good</td>\n",
       "      <td>1456963200</td>\n",
       "      <td>NaN</td>\n",
       "      <td>NaN</td>\n",
       "      <td>3</td>\n",
       "      <td>3</td>\n",
       "      <td>2016</td>\n",
       "      <td>2</td>\n",
       "      <td>As usual for him a good book</td>\n",
       "    </tr>\n",
       "    <tr>\n",
       "      <th>4</th>\n",
       "      <td>5</td>\n",
       "      <td>True</td>\n",
       "      <td>2015-09-10</td>\n",
       "      <td>AYUTCGVSM1H7T</td>\n",
       "      <td>B000FA5KK0</td>\n",
       "      <td>{'Format:': ' Kindle Edition'}</td>\n",
       "      <td>MB is one of the original western writers and ...</td>\n",
       "      <td>A Western</td>\n",
       "      <td>1441843200</td>\n",
       "      <td>2.0</td>\n",
       "      <td>NaN</td>\n",
       "      <td>10</td>\n",
       "      <td>9</td>\n",
       "      <td>2015</td>\n",
       "      <td>2</td>\n",
       "      <td>MB is one of the original western writers and ...</td>\n",
       "    </tr>\n",
       "  </tbody>\n",
       "</table>\n",
       "</div>"
      ],
      "text/plain": [
       "   overall  verified  reviewTime      reviewerID        asin  \\\n",
       "0        4      True  2014-07-03  A2LSKD2H9U8N0J  B000FA5KK0   \n",
       "1        5      True  2014-05-26  A2QP13XTJND1QS  B000FA5KK0   \n",
       "2        5      True  2016-09-16   A8WQ7MAG3HFOZ  B000FA5KK0   \n",
       "3        5      True  2016-03-03   A1E0MODSRYP7O  B000FA5KK0   \n",
       "4        5      True  2015-09-10   AYUTCGVSM1H7T  B000FA5KK0   \n",
       "\n",
       "                            style  \\\n",
       "0  {'Format:': ' Kindle Edition'}   \n",
       "1  {'Format:': ' Kindle Edition'}   \n",
       "2  {'Format:': ' Kindle Edition'}   \n",
       "3  {'Format:': ' Kindle Edition'}   \n",
       "4  {'Format:': ' Kindle Edition'}   \n",
       "\n",
       "                                          reviewText            summary  \\\n",
       "0  pretty good story, a little exaggerated, but I...  pretty good story   \n",
       "1  If you've read other max brand westerns, you k...   A very good book   \n",
       "2                       Love Max, always a fun twist         Five Stars   \n",
       "3                      As usual for him, a good book             a good   \n",
       "4  MB is one of the original western writers and ...          A Western   \n",
       "\n",
       "   unixReviewTime  vote image  day  month  year  sentiment  \\\n",
       "0      1404345600   NaN   NaN    3      7  2014          2   \n",
       "1      1401062400   NaN   NaN   26      5  2014          2   \n",
       "2      1473984000   NaN   NaN   16      9  2016          2   \n",
       "3      1456963200   NaN   NaN    3      3  2016          2   \n",
       "4      1441843200   2.0   NaN   10      9  2015          2   \n",
       "\n",
       "                                        review_clean  \n",
       "0  pretty good story a little exaggerated but I l...  \n",
       "1  If youve read other max brand westerns you kno...  \n",
       "2                        Love Max always a fun twist  \n",
       "3                       As usual for him a good book  \n",
       "4  MB is one of the original western writers and ...  "
      ]
     },
     "execution_count": 2,
     "metadata": {},
     "output_type": "execute_result"
    }
   ],
   "source": [
    "import pandas as pd\n",
    "df = pd.read_csv('Cleaned_Data.csv', low_memory=False)\n",
    "df.head()"
   ]
  },
  {
   "cell_type": "markdown",
   "id": "d1dc76ad-cab0-4262-94e3-0fdac5f94db2",
   "metadata": {},
   "source": [
    "I have already cleaned my data but after converting my data to new column, I would like to make sure my new column is clean or not. "
   ]
  },
  {
   "cell_type": "code",
   "execution_count": 3,
   "id": "a90b46c4-5d5b-4c7d-a595-67b867fd4e02",
   "metadata": {},
   "outputs": [
    {
     "data": {
      "text/plain": [
       "overall             0\n",
       "verified            0\n",
       "reviewTime          0\n",
       "reviewerID          0\n",
       "asin                0\n",
       "style             875\n",
       "reviewText          0\n",
       "summary             0\n",
       "unixReviewTime      0\n",
       "vote              938\n",
       "image             999\n",
       "day                 0\n",
       "month               0\n",
       "year                0\n",
       "sentiment           0\n",
       "review_clean        0\n",
       "dtype: int64"
      ]
     },
     "execution_count": 3,
     "metadata": {},
     "output_type": "execute_result"
    }
   ],
   "source": [
    "df.isna().sum()"
   ]
  },
  {
   "cell_type": "code",
   "execution_count": null,
   "id": "c0c95ef6-8e00-430f-a9de-59f89f533e06",
   "metadata": {},
   "outputs": [],
   "source": []
  },
  {
   "cell_type": "markdown",
   "id": "d9ad5db3-c0f3-46b8-8496-bddaadbec2fd",
   "metadata": {},
   "source": [
    "## Taking Samples for Modeling "
   ]
  },
  {
   "cell_type": "markdown",
   "id": "dcc20b81-a130-477c-b155-79926795442d",
   "metadata": {},
   "source": [
    "As my target is highly unbalanced. To teach my model more about minority class, I will take sample data from each balanced classes. "
   ]
  },
  {
   "cell_type": "code",
   "execution_count": 6,
   "id": "8ca914c5-37d5-4e10-a4cb-064cbd33e0b2",
   "metadata": {},
   "outputs": [
    {
     "data": {
      "text/plain": [
       "1    882\n",
       "0    118\n",
       "Name: sentiment, dtype: int64"
      ]
     },
     "execution_count": 6,
     "metadata": {},
     "output_type": "execute_result"
    }
   ],
   "source": [
    "def calc_two_sentiment(overall):\n",
    "    '''This function encodes the rating 1 and 2 as 0, others as 1'''\n",
    "    if overall >= 3:\n",
    "        return 1\n",
    "    else:\n",
    "        return 0\n",
    "    \n",
    "# appyling converter to change sentiments from 3 to 2-classed\n",
    "df['sentiment'] = df['overall'].apply(calc_two_sentiment) \n",
    "df['sentiment'].value_counts()"
   ]
  },
  {
   "cell_type": "code",
   "execution_count": 7,
   "id": "47538f22-158a-4062-9baf-6ffbb7298706",
   "metadata": {},
   "outputs": [
    {
     "data": {
      "text/plain": [
       "0    100\n",
       "1    100\n",
       "Name: sentiment, dtype: int64"
      ]
     },
     "execution_count": 7,
     "metadata": {},
     "output_type": "execute_result"
    }
   ],
   "source": [
    "df_0 = df.loc[df['sentiment']==0].head(100)\n",
    "df_1 = df.loc[df['sentiment']==1].head(100)\n",
    "\n",
    "frames = [df_0, df_1]\n",
    "df_sampled = pd.concat(frames) #getting together samples\n",
    "\n",
    "#sample classes - balanced chosen\n",
    "df_sampled['sentiment'].value_counts() "
   ]
  },
  {
   "cell_type": "markdown",
   "id": "cacc660b-efbe-4d41-96c5-9ecba63fe82f",
   "metadata": {},
   "source": [
    "## Modeling Functions"
   ]
  },
  {
   "cell_type": "markdown",
   "id": "8163e02d-428f-42c0-b39e-4452d4da6c60",
   "metadata": {},
   "source": [
    "## LOGISTIC-REGRESSION MODEL"
   ]
  },
  {
   "cell_type": "markdown",
   "id": "30dfa5f9-4850-4c8b-8b70-795edab40cf7",
   "metadata": {},
   "source": [
    "I will use functions for my modeling and spliting parts because I want to get results easily when I changed something in model."
   ]
  },
  {
   "cell_type": "code",
   "execution_count": 13,
   "id": "dcc31604-7776-457b-a232-d9bcac200fb4",
   "metadata": {},
   "outputs": [
    {
     "name": "stdout",
     "output_type": "stream",
     "text": [
      "(160,)\n",
      "(40,)\n",
      "Accuracy:\n",
      "=========\n",
      "TRAIN: 0.99375\n",
      "TEST: 0.925\n",
      "\n",
      "Balanced Accuracy:\n",
      "==================\n",
      "TRAIN: 0.9936708860759493\n",
      "TEST: 0.9235588972431077\n"
     ]
    },
    {
     "data": {
      "image/png": "[encoded data removed]",
      "text/plain": [
       "<Figure size 640x480 with 1 Axes>"
      ]
     },
     "metadata": {},
     "output_type": "display_data"
    }
   ],
   "source": [
    "from sklearn.feature_extraction.text import TfidfVectorizer\n",
    "from sklearn.linear_model import LogisticRegression\n",
    "\n",
    "from sklearn.model_selection import cross_val_score\n",
    "from sklearn.metrics import accuracy_score,balanced_accuracy_score\n",
    "from sklearn.model_selection import train_test_split\n",
    "\n",
    "from mlxtend.evaluate import confusion_matrix\n",
    "from mlxtend.plotting import plot_confusion_matrix\n",
    "from mlxtend.plotting import plot_decision_regions\n",
    "\n",
    "import matplotlib.pyplot as plt\n",
    "\n",
    "def model_split(df) :\n",
    "    '''This function splits data to train and test, then vectorized reviews '''\n",
    "    \n",
    "    # split train-test\n",
    "    X_train, X_test, y_train, y_test = train_test_split(df['review_clean'], \n",
    "                                                        df['sentiment'], test_size=0.2, random_state=42)\n",
    "    print(X_train.shape)\n",
    "    print(X_test.shape)\n",
    "        \n",
    "    # define vectorize and fit to data     \n",
    "    word_vectorizer = TfidfVectorizer(sublinear_tf=True,strip_accents='unicode',\n",
    "        analyzer='word',token_pattern=r'\\w{1,}',stop_words='english',\n",
    "        ngram_range=(1, 1),max_features=10000)\n",
    "\n",
    "    word_vectorizer.fit(df['review_clean'])\n",
    "    \n",
    "    # train - test vectorized features - tranforming to suitable format for modeling\n",
    "    train_word_features = word_vectorizer.transform(X_train) \n",
    "    test_word_features = word_vectorizer.transform(X_test)\n",
    "    \n",
    "    return train_word_features , test_word_features, y_train, y_test \n",
    "\n",
    "def model(df,classifier):\n",
    "    '''this function gives modeling results and confusion matrix also'''\n",
    "    train_word_features,test_word_features,y_train,y_test = model_split(df)\n",
    "    classifier.fit(train_word_features, y_train)\n",
    "    \n",
    "    # calculating results \n",
    "    y_pred_train = classifier.predict(train_word_features)\n",
    "    y_pred = classifier.predict(test_word_features)\n",
    "    \n",
    "    #for smart printing (learned from our lead instructor Bryan Arnold)\n",
    "    print(\"Accuracy:\"); print(\"=\"*len(\"Accuracy:\"))\n",
    "    print(f\"TRAIN: {accuracy_score(y_train, y_pred_train)}\")\n",
    "    print(f\"TEST: {accuracy_score(y_test, y_pred)}\")\n",
    "\n",
    "    print(\"\\nBalanced Accuracy:\"); print(\"=\"*len(\"Balanced Accuracy:\"))\n",
    "    print(f\"TRAIN: {balanced_accuracy_score(y_train, y_pred_train)}\")\n",
    "    print(f\"TEST: {balanced_accuracy_score(y_test, y_pred)}\")\n",
    "    \n",
    "    # plot confusion matrix\n",
    "    cm = confusion_matrix(y_test, y_pred)\n",
    "    plot_confusion_matrix(cm)\n",
    "    plt.show()\n",
    "    \n",
    "# choosing classifier and running model\n",
    "classifier = LogisticRegression(class_weight = \"balanced\", C=0.5, solver='sag')\n",
    "model(df_sampled,classifier)"
   ]
  },
  {
   "cell_type": "markdown",
   "id": "d1527500-199c-4e47-a436-af2b0297085e",
   "metadata": {},
   "source": [
    "With simple Logreg, I got my baseline model for 2-balanced class data. I did not work on this much this model, because it is my baseline. I will decide after other models. My main concern is this matrix are wrong predictions on 0. I will try to find the best results according to accuracy and true 0 class predictions."
   ]
  },
  {
   "cell_type": "markdown",
   "id": "e71a541f-20fe-44c3-af15-401b936490e1",
   "metadata": {},
   "source": [
    "## DECISION TREE CLASSIFIER"
   ]
  },
  {
   "cell_type": "markdown",
   "id": "524a8b3a-99f4-471e-b843-c000f049422d",
   "metadata": {},
   "source": [
    "Decision tree classifier is a supervised classification technique which splits data according to certain parameters continuously."
   ]
  },
  {
   "cell_type": "code",
   "execution_count": 14,
   "id": "fb698785-2421-4333-b602-d5694e46efaa",
   "metadata": {},
   "outputs": [
    {
     "name": "stdout",
     "output_type": "stream",
     "text": [
      "(160,)\n",
      "(40,)\n",
      "Accuracy:\n",
      "=========\n",
      "TRAIN: 0.7875\n",
      "TEST: 0.6\n",
      "\n",
      "Balanced Accuracy:\n",
      "==================\n",
      "TRAIN: 0.7888732614471011\n",
      "TEST: 0.5939849624060151\n"
     ]
    },
    {
     "data": {
      "image/png": "[encoded data removed]",
      "text/plain": [
       "<Figure size 640x480 with 1 Axes>"
      ]
     },
     "metadata": {},
     "output_type": "display_data"
    }
   ],
   "source": [
    "# sklearn imports for modeling part\n",
    "from sklearn.feature_extraction.text import TfidfVectorizer\n",
    "from sklearn.tree import DecisionTreeClassifier\n",
    "\n",
    "des_tree = DecisionTreeClassifier(criterion='entropy', max_depth=4, min_samples_leaf=5, \n",
    "                                        random_state=42, class_weight='balanced')\n",
    "model(df_sampled,des_tree)"
   ]
  },
  {
   "cell_type": "markdown",
   "id": "0aa361aa-1b6b-43d4-b307-4c26e59da21b",
   "metadata": {},
   "source": [
    "I do not find better results than baseline when I try to tune this model, so I continue to try other models. With simple Logreg, my test accuracy was 0.92, but this one gives 0.59."
   ]
  },
  {
   "cell_type": "markdown",
   "id": "2f225d0b-bf9b-40a3-a73c-9b81985b9a30",
   "metadata": {},
   "source": [
    "## EXTRA-TREE CLASSIFIER"
   ]
  },
  {
   "cell_type": "markdown",
   "id": "ada9fb8a-1c4b-40d2-b5d4-38ac33b5c8df",
   "metadata": {},
   "source": [
    "Extra Trees works like a Random Forest. It builds multiple trees and splits nodes using random subsets of features. There are two main differences it does not samples without replacement, and nodes are split on random splits, not best splits. I also used different parameters and tuned them manually."
   ]
  },
  {
   "cell_type": "code",
   "execution_count": 15,
   "id": "6dafc4f6-73f0-4e14-af95-7216db375b17",
   "metadata": {},
   "outputs": [
    {
     "name": "stdout",
     "output_type": "stream",
     "text": [
      "(160,)\n",
      "(40,)\n",
      "Accuracy:\n",
      "=========\n",
      "TRAIN: 0.9125\n",
      "TEST: 0.9\n",
      "\n",
      "Balanced Accuracy:\n",
      "==================\n",
      "TRAIN: 0.9113924050632911\n",
      "TEST: 0.9022556390977443\n"
     ]
    },
    {
     "data": {
      "image/png": "[encoded data removed]",
      "text/plain": [
       "<Figure size 640x480 with 1 Axes>"
      ]
     },
     "metadata": {},
     "output_type": "display_data"
    }
   ],
   "source": [
    "# sklearn imports for modeling part\n",
    "from sklearn.ensemble import RandomForestClassifier, ExtraTreesClassifier\n",
    "\n",
    "rf_extra = ExtraTreesClassifier(max_depth=5, criterion= 'entropy', min_samples_leaf=3, min_samples_split=18, \n",
    "                          random_state=42, n_estimators = 100, class_weight='balanced', n_jobs = -1)\n",
    "\n",
    "model(df_sampled,rf_extra)"
   ]
  },
  {
   "cell_type": "markdown",
   "id": "4545f5f1-04db-4f3b-b47e-29e690bf0134",
   "metadata": {},
   "source": [
    "Got better result than decision tree."
   ]
  },
  {
   "cell_type": "markdown",
   "id": "948c4158-d7d6-43c0-9de9-034200da922b",
   "metadata": {},
   "source": [
    "## RANDOM FOREST CLASSIFIER"
   ]
  },
  {
   "cell_type": "markdown",
   "id": "437e0e45-4a1d-40e1-9a2d-e125ac761f3a",
   "metadata": {},
   "source": [
    "Random forest models can reduce overfitting risk by randomness as building n_estimators, bootstrapping sample and splitting nodes on the best split among a random subset of the features selected at every node and converting non-homogeneous node into best possibles.\n",
    "\n"
   ]
  },
  {
   "cell_type": "code",
   "execution_count": 16,
   "id": "372c7f7a-070f-46bb-a0c8-a87bfb27c900",
   "metadata": {},
   "outputs": [
    {
     "name": "stdout",
     "output_type": "stream",
     "text": [
      "(160,)\n",
      "(40,)\n",
      "Accuracy:\n",
      "=========\n",
      "TRAIN: 1.0\n",
      "TEST: 0.9\n",
      "\n",
      "Balanced Accuracy:\n",
      "==================\n",
      "TRAIN: 1.0\n",
      "TEST: 0.8972431077694235\n"
     ]
    },
    {
     "data": {
      "image/png": "[encoded data removed]",
      "text/plain": [
       "<Figure size 640x480 with 1 Axes>"
      ]
     },
     "metadata": {},
     "output_type": "display_data"
    }
   ],
   "source": [
    "# sklearn imports for modeling part\n",
    "from sklearn.ensemble import RandomForestClassifier, ExtraTreesClassifier\n",
    "\n",
    "rf = RandomForestClassifier(n_estimators=100, random_state=42, n_jobs=-1,class_weight='balanced',\n",
    "                            criterion = 'entropy',max_features = 'sqrt',min_samples_split = 5)\n",
    "model(df_sampled,rf)"
   ]
  },
  {
   "cell_type": "markdown",
   "id": "31ddf69e-d8b1-4d41-8fe6-0976a3f88ad4",
   "metadata": {},
   "source": [
    "I got the best result with high accuracy among all the models in both test and train, using the parameters. "
   ]
  },
  {
   "cell_type": "code",
   "execution_count": 24,
   "id": "faffeaea-d1cf-4138-9518-f214d41ccc0b",
   "metadata": {
    "collapsed": true,
    "jupyter": {
     "outputs_hidden": true
    },
    "tags": []
   },
   "outputs": [
    {
     "name": "stderr",
     "output_type": "stream",
     "text": [
      "/var/folders/qt/qwdl18ld00132kwks4v4_79m0000gn/T/ipykernel_6045/4230274576.py:6: FutureWarning: The frame.append method is deprecated and will be removed from pandas in a future version. Use pandas.concat instead.\n",
      "  df_results = df_results.append({\n",
      "/var/folders/qt/qwdl18ld00132kwks4v4_79m0000gn/T/ipykernel_6045/4230274576.py:12: FutureWarning: The frame.append method is deprecated and will be removed from pandas in a future version. Use pandas.concat instead.\n",
      "  df_results = df_results.append({\n",
      "/var/folders/qt/qwdl18ld00132kwks4v4_79m0000gn/T/ipykernel_6045/4230274576.py:18: FutureWarning: The frame.append method is deprecated and will be removed from pandas in a future version. Use pandas.concat instead.\n",
      "  df_results = df_results.append({\n",
      "/var/folders/qt/qwdl18ld00132kwks4v4_79m0000gn/T/ipykernel_6045/4230274576.py:24: FutureWarning: The frame.append method is deprecated and will be removed from pandas in a future version. Use pandas.concat instead.\n",
      "  df_results = df_results.append({\n"
     ]
    }
   ],
   "source": [
    "import pandas as pd\n",
    "# combinig all the results into DataFrame\n",
    "df_results = pd.DataFrame(columns=[\"Model\",\"train_balanced\",\"test_balanced\"])\n",
    "\n",
    "# for Log-Reg Model\n",
    "df_results = df_results.append({\n",
    "                'Model': 'Log-Reg Model',\n",
    "                'train_balanced' : 0.99,\n",
    "                'test_balanced' : 0.92}, ignore_index=True)\n",
    "\n",
    "# for Decision Tree Classifier\n",
    "df_results = df_results.append({  \n",
    "                'Model': 'Decision Tree',\n",
    "                'train_balanced' : 0.78,\n",
    "                'test_balanced' : 0.60}, ignore_index=True)\n",
    "\n",
    "# for Extra-Tree Classifier\n",
    "df_results = df_results.append({   \n",
    "                'Model': 'Extra-Tree',\n",
    "                'train_balanced' : 0.91,\n",
    "                'test_balanced' : 0.90}, ignore_index=True)\n",
    "\n",
    "# for Random Forest Classifier\n",
    "df_results = df_results.append({       \n",
    "                'Model': 'Random Forest',\n",
    "                'train_balanced' : 1.00,\n",
    "                'test_balanced' : 0.90}, ignore_index=True)"
   ]
  },
  {
   "cell_type": "code",
   "execution_count": 23,
   "id": "fb1d4429-20f5-4b03-bd13-3e59c0df3092",
   "metadata": {},
   "outputs": [
    {
     "data": {
      "text/html": [
       "<div>\n",
       "<style scoped>\n",
       "    .dataframe tbody tr th:only-of-type {\n",
       "        vertical-align: middle;\n",
       "    }\n",
       "\n",
       "    .dataframe tbody tr th {\n",
       "        vertical-align: top;\n",
       "    }\n",
       "\n",
       "    .dataframe thead th {\n",
       "        text-align: right;\n",
       "    }\n",
       "</style>\n",
       "<table border=\"1\" class=\"dataframe\">\n",
       "  <thead>\n",
       "    <tr style=\"text-align: right;\">\n",
       "      <th></th>\n",
       "      <th>Model</th>\n",
       "      <th>train_balanced</th>\n",
       "      <th>test_balanced</th>\n",
       "    </tr>\n",
       "  </thead>\n",
       "  <tbody>\n",
       "    <tr>\n",
       "      <th>0</th>\n",
       "      <td>Log-Reg Model</td>\n",
       "      <td>0.99</td>\n",
       "      <td>0.92</td>\n",
       "    </tr>\n",
       "    <tr>\n",
       "      <th>1</th>\n",
       "      <td>Decision Tree</td>\n",
       "      <td>0.78</td>\n",
       "      <td>0.60</td>\n",
       "    </tr>\n",
       "    <tr>\n",
       "      <th>2</th>\n",
       "      <td>Extra-Tree</td>\n",
       "      <td>0.91</td>\n",
       "      <td>0.90</td>\n",
       "    </tr>\n",
       "    <tr>\n",
       "      <th>3</th>\n",
       "      <td>Random Forest</td>\n",
       "      <td>1.00</td>\n",
       "      <td>0.90</td>\n",
       "    </tr>\n",
       "  </tbody>\n",
       "</table>\n",
       "</div>"
      ],
      "text/plain": [
       "           Model  train_balanced  test_balanced\n",
       "0  Log-Reg Model            0.99           0.92\n",
       "1  Decision Tree            0.78           0.60\n",
       "2     Extra-Tree            0.91           0.90\n",
       "3  Random Forest            1.00           0.90"
      ]
     },
     "execution_count": 23,
     "metadata": {},
     "output_type": "execute_result"
    }
   ],
   "source": [
    "df_results # show results "
   ]
  },
  {
   "cell_type": "markdown",
   "id": "ec5c2498-4f34-4b82-a0c0-1c22d5db2715",
   "metadata": {},
   "source": [
    "According to results, my baseline did better than others. I can work on to tune these models and can get better results."
   ]
  },
  {
   "cell_type": "code",
   "execution_count": 27,
   "id": "373e3c17-6b59-4d47-8f7a-d4da5ab753cc",
   "metadata": {},
   "outputs": [
    {
     "data": {
      "image/png": "[encoded data removed]",
      "text/plain": [
       "<Figure size 1000x600 with 1 Axes>"
      ]
     },
     "metadata": {},
     "output_type": "display_data"
    }
   ],
   "source": [
    "import seaborn as sns \n",
    "plt.figure(figsize=(10,6))\n",
    "ax = sns.barplot(x='Model', y='train_balanced', data=df_results)"
   ]
  },
  {
   "cell_type": "markdown",
   "id": "b604ff3c-466a-429d-8e26-4622419651ed",
   "metadata": {},
   "source": [
    "From the above bar chart, we can depict that Random Forest gives accurate results, though log-reg model is close to baseline. But Random Forest is accurate."
   ]
  }
 ],
 "metadata": {
  "kernelspec": {
   "display_name": "Python 3 (ipykernel)",
   "language": "python",
   "name": "python3"
  },
  "language_info": {
   "codemirror_mode": {
    "name": "ipython",
    "version": 3
   },
   "file_extension": ".py",
   "mimetype": "text/x-python",
   "name": "python",
   "nbconvert_exporter": "python",
   "pygments_lexer": "ipython3",
   "version": "3.10.9"
  }
 },
 "nbformat": 4,
 "nbformat_minor": 5
}
